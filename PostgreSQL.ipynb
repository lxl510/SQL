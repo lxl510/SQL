{
 "cells": [
  {
   "cell_type": "code",
   "execution_count": null,
   "id": "f0a4e20a",
   "metadata": {},
   "outputs": [],
   "source": [
    "# our database design must enforce the functional dependencies and referential integrity, \n",
    "#based on the following assumptions:\n",
    "\n",
    "# Every company has an ID number, name, headquarter city, CEO, and the founding year\n",
    "# Every CEO has an ID, first and last name, year of birth, place of birth, the year when they became a CEO\n",
    "# Every city is located in a state, every state in a country. In some cases, there are no states."
   ]
  },
  {
   "cell_type": "code",
   "execution_count": null,
   "id": "ea3f57d1",
   "metadata": {
    "scrolled": true
   },
   "outputs": [],
   "source": [
    "#install the library to connect pgAdmina\n",
    "!pip install -U \"psycopg[binary]\""
   ]
  },
  {
   "cell_type": "code",
   "execution_count": 1,
   "id": "14e15eac",
   "metadata": {},
   "outputs": [
    {
     "name": "stdout",
     "output_type": "stream",
     "text": [
      "Connecting to the PostgreSQL database...\n"
     ]
    }
   ],
   "source": [
    "import psycopg, os\n",
    "\n",
    "print('Connecting to the PostgreSQL database...')\n",
    "\n",
    "conn = psycopg.connect(\n",
    "    host=\"localhost\",\n",
    "    port='5432',\n",
    "    dbname=\"postgres\",\n",
    "    user=\"postgres\",\n",
    "    password=\"123\")"
   ]
  },
  {
   "cell_type": "code",
   "execution_count": 2,
   "id": "29dcc1f8",
   "metadata": {},
   "outputs": [],
   "source": [
    "cur = conn.cursor()"
   ]
  },
  {
   "cell_type": "code",
   "execution_count": 3,
   "id": "7cc53315",
   "metadata": {
    "scrolled": true
   },
   "outputs": [
    {
     "name": "stdout",
     "output_type": "stream",
     "text": [
      "PostgreSQL database version:\n",
      "('PostgreSQL 15.1 (Debian 15.1-1.pgdg110+1) on aarch64-unknown-linux-gnu, compiled by gcc (Debian 10.2.1-6) 10.2.1 20210110, 64-bit',)\n"
     ]
    }
   ],
   "source": [
    "# execute a statement\n",
    "print('PostgreSQL database version:')\n",
    "cur.execute('SELECT version()')\n",
    "\n",
    "# display the PostgreSQL database server version\n",
    "db_version = cur.fetchone()\n",
    "print(db_version)"
   ]
  },
  {
   "cell_type": "code",
   "execution_count": 4,
   "id": "7a5a8c00",
   "metadata": {
    "scrolled": true
   },
   "outputs": [
    {
     "data": {
      "text/plain": [
       "<psycopg.Cursor [COMMAND_OK] [INTRANS] (host=localhost database=postgres) at 0x7ff2791abb40>"
      ]
     },
     "execution_count": 4,
     "metadata": {},
     "output_type": "execute_result"
    }
   ],
   "source": [
    "cur.execute(\"DROP TABLE company\")"
   ]
  },
  {
   "cell_type": "code",
   "execution_count": 5,
   "id": "8f63a4cc",
   "metadata": {},
   "outputs": [
    {
     "data": {
      "text/plain": [
       "<psycopg.Cursor [COMMAND_OK] [INTRANS] (host=localhost database=postgres) at 0x7ff2791abb40>"
      ]
     },
     "execution_count": 5,
     "metadata": {},
     "output_type": "execute_result"
    }
   ],
   "source": [
    "cur.execute(\"DROP TABLE ceo\")"
   ]
  },
  {
   "cell_type": "code",
   "execution_count": 6,
   "id": "42d503cb",
   "metadata": {},
   "outputs": [
    {
     "data": {
      "text/plain": [
       "<psycopg.Cursor [COMMAND_OK] [INTRANS] (host=localhost database=postgres) at 0x7ff2791abb40>"
      ]
     },
     "execution_count": 6,
     "metadata": {},
     "output_type": "execute_result"
    }
   ],
   "source": [
    "cur.execute(\"DROP TABLE cities\")"
   ]
  },
  {
   "cell_type": "code",
   "execution_count": 7,
   "id": "38b2ee96",
   "metadata": {},
   "outputs": [],
   "source": [
    "createCmd = \"\"\" create table cities (\n",
    "                city_name  varchar(255),\n",
    "                state  varchar(255),\n",
    "                country  varchar(255),\n",
    "                primary key (city_name))\n",
    "            \"\"\"\n",
    "    \n",
    "cur.execute(createCmd)\n",
    "conn.commit()"
   ]
  },
  {
   "cell_type": "code",
   "execution_count": 8,
   "id": "19495922",
   "metadata": {
    "scrolled": true
   },
   "outputs": [],
   "source": [
    "createCmd = \"\"\" create table ceo (\n",
    "                id  varchar(255),\n",
    "                name  varchar(255),\n",
    "                year_of_birth numeric(4,0),\n",
    "                city_name varchar(255),\n",
    "                year_become_ceo numeric(4,0),\n",
    "                primary key (name),\n",
    "                foreign key (city_name) references cities(city_name))\n",
    "            \"\"\"\n",
    "    \n",
    "cur.execute(createCmd)\n",
    "conn.commit()"
   ]
  },
  {
   "cell_type": "code",
   "execution_count": 9,
   "id": "4abd441d",
   "metadata": {},
   "outputs": [],
   "source": [
    "createCmd = \"\"\" create table company (\n",
    "                id  varchar(20),\n",
    "                name  varchar(255), \n",
    "                city_name  varchar(255),\n",
    "                ceo_name  varchar(255),\n",
    "                year numeric(4,0),\n",
    "                primary key (id),\n",
    "                foreign key (ceo_name) references ceo(name),\n",
    "                foreign key (city_name) references cities(city_name))\n",
    "            \"\"\"\n",
    "    \n",
    "cur.execute(createCmd)\n",
    "conn.commit()"
   ]
  },
  {
   "cell_type": "code",
   "execution_count": 10,
   "id": "a88e65dc",
   "metadata": {},
   "outputs": [
    {
     "name": "stdout",
     "output_type": "stream",
     "text": [
      "0\n"
     ]
    }
   ],
   "source": [
    "queryCmd = 'SELECT * from ceo'\n",
    "cur.execute(queryCmd)\n",
    "print(cur.rowcount)"
   ]
  },
  {
   "cell_type": "code",
   "execution_count": 11,
   "id": "77a52f52",
   "metadata": {},
   "outputs": [],
   "source": [
    "# city table\n",
    "# city, state, country\n",
    "\n",
    "cur.execute(\"INSERT into cities VALUES('Mobile', 'AL', 'USA')\")\n",
    "cur.execute(\"INSERT into cities VALUES('Cupertino', 'CA', 'USA')\")\n",
    "cur.execute(\"INSERT into cities VALUES('West Godavari', 'Andhra-Pradesh', 'India')\")\n",
    "cur.execute(\"INSERT into cities VALUES('Armonk', 'NY', 'USA')\")\n",
    "cur.execute(\"INSERT into cities VALUES('Scarsdale', 'NY', 'USA')\")\n",
    "cur.execute(\"INSERT into cities VALUES('Seattle', 'WA', 'USA')\")\n",
    "cur.execute(\"INSERT into cities VALUES('Royal Oak', 'MI', 'USA')\")\n",
    "cur.execute(\"INSERT into cities VALUES('Detroit', 'MI', 'USA')\")\n",
    "cur.execute(\"INSERT into cities VALUES('Kumamoto', '', 'Japan')\")\n",
    "cur.execute(\"INSERT into cities VALUES('Tokyo', '', 'Japan')\")\n",
    "cur.execute(\"INSERT into cities VALUES('Shanghai', '', 'China')\")\n",
    "cur.execute(\"INSERT into cities VALUES('Hangzhou', 'Zhejiang', 'China')\")\n",
    "cur.execute(\"INSERT into cities VALUES('Rennes', 'Illes-et-Villaine', 'France')\")\n",
    "cur.execute(\"INSERT into cities VALUES('Paris', '', 'France')\")\n",
    "cur.execute(\"INSERT into cities VALUES('Suwon', 'Gyeonggi-do', 'South Korea')\")\n",
    "cur.execute(\"INSERT into cities VALUES('Seoul', '', 'South Korea')\")\n",
    "cur.execute(\"INSERT into cities VALUES('Memphis', 'TN', 'USA')\")\n",
    "cur.execute(\"INSERT into cities VALUES('Bentonville', 'Arkansas', 'USA')\")\n",
    "\n",
    "conn.commit()"
   ]
  },
  {
   "cell_type": "code",
   "execution_count": 12,
   "id": "3c62712d",
   "metadata": {},
   "outputs": [],
   "source": [
    "# ceo table\n",
    "#id, ceo, birth, city, country, year become ceo\n",
    "cur.execute(\"INSERT into ceo VALUES(1, 'Tim Cook', 1960, 'Mobile', 2011)\")\n",
    "cur.execute(\"INSERT into ceo VALUES(2, 'Arvind Krishna', 1962, 'West Godavari', 2020)\")\n",
    "cur.execute(\"INSERT into ceo VALUES(3, 'Andy Jassy', 1968, 'Scarsdale', 2021)\")\n",
    "cur.execute(\"INSERT into ceo VALUES(4, 'Mary Barra', 1961, 'Royal Oak', 2014)\")\n",
    "cur.execute(\"INSERT into ceo VALUES(5, 'Kenichiro Yoshida', 1959, 'Kumamoto', 2018)\")\n",
    "cur.execute(\"INSERT into ceo VALUES(6, 'Daniel Zhang', 1972, 'Shanghai', 2015)\")\n",
    "cur.execute(\"INSERT into ceo VALUES(7, 'François-Henri Pinault', 1962, 'Rennes', 2005)\")\n",
    "cur.execute(\"INSERT into ceo VALUES(8, 'Lee Jae-yong', 1968, 'Seoul', 2022)\")\n",
    "cur.execute(\"INSERT into ceo VALUES(9, 'Doug McMillon', 1966, 'Memphis', 2014)\")\n",
    "\n",
    "conn.commit()"
   ]
  },
  {
   "cell_type": "code",
   "execution_count": 13,
   "id": "a4c0ac88",
   "metadata": {},
   "outputs": [],
   "source": [
    "# company table\n",
    "# id,company,headquater,ceo,founded\n",
    "cur.execute(\"INSERT into company VALUES(1, 'Apple', 'Cupertino', 'Tim Cook', 1976)\")\n",
    "cur.execute(\"INSERT into company VALUES(2, 'IBM', 'Armonk', 'Arvind Krishna', 1911)\")\n",
    "cur.execute(\"INSERT into company VALUES(3, 'Amazon', 'Seattle', 'Andy Jassy', 1994)\")\n",
    "cur.execute(\"INSERT into company VALUES(4, 'General Motors', 'Detroit', 'Mary Barra', 1908)\")\n",
    "cur.execute(\"INSERT into company VALUES(5, 'Sony', 'Tokyo', 'Kenichiro Yoshida', 1946)\")\n",
    "cur.execute(\"INSERT into company VALUES(6, 'Alibaba', 'Hangzhou', 'Daniel Zhang', 1999)\")\n",
    "cur.execute(\"INSERT into company VALUES(7, 'Kering', 'Paris', 'François-Henri Pinault', 1963)\")\n",
    "cur.execute(\"INSERT into company VALUES(8, 'Samsung', 'Suwon', 'Lee Jae-yong', 1969)\")\n",
    "cur.execute(\"INSERT into company VALUES(9, 'Walmart', 'Bentonville', 'Doug McMillon', 1962)\")\n",
    "\n",
    "conn.commit()"
   ]
  },
  {
   "cell_type": "code",
   "execution_count": 16,
   "id": "3081a463",
   "metadata": {},
   "outputs": [],
   "source": [
    "conn.commit()"
   ]
  },
  {
   "cell_type": "code",
   "execution_count": 14,
   "id": "8b6beac4",
   "metadata": {},
   "outputs": [
    {
     "name": "stdout",
     "output_type": "stream",
     "text": [
      "57\n"
     ]
    }
   ],
   "source": [
    "#1 What’s the age of the company whose CEO was born in the state of Tennessee?\n",
    "\n",
    "cmd = \"SELECT year_of_birth FROM ceo JOIN cities ON ceo.city_name = cities.city_name WHERE cities.state = 'TN'\"\n",
    "cur.execute(cmd)\n",
    "\n",
    "row = cur.fetchone()\n",
    "year_of_birth = int(row[0])\n",
    "age = 2023 - year_of_birth \n",
    "print(age)"
   ]
  },
  {
   "cell_type": "code",
   "execution_count": 18,
   "id": "7792bd56",
   "metadata": {},
   "outputs": [
    {
     "name": "stdout",
     "output_type": "stream",
     "text": [
      "Arvind Krishna\n",
      "Mary Barra\n",
      "Doug McMillon\n"
     ]
    }
   ],
   "source": [
    "#2 What are the full names of CEOs of companies founded in the USA before 1965?\n",
    "\n",
    "cmd = \"SELECT ceo_name FROM company JOIN cities ON company.city_name = cities.city_name WHERE cities.country = 'USA' AND company.year < 1965\"\n",
    "cur.execute(cmd)\n",
    "\n",
    "row = cur.fetchone()\n",
    "while row is not None:\n",
    "    print(row[0])\n",
    "    row = cur.fetchone()"
   ]
  },
  {
   "cell_type": "code",
   "execution_count": 19,
   "id": "eeb6d2e9",
   "metadata": {},
   "outputs": [
    {
     "name": "stdout",
     "output_type": "stream",
     "text": [
      "Amazon\n",
      "Alibaba\n",
      "Samsung\n",
      "Walmart\n"
     ]
    }
   ],
   "source": [
    "#3 Which companies have CEOs who are younger than 60?\n",
    "\n",
    "cmd = \"SELECT company.name FROM company JOIN ceo ON company.ceo_name = ceo.name WHERE ceo.year_of_birth  > 1963 \"\n",
    "cur.execute(cmd)\n",
    "\n",
    "row = cur.fetchone()\n",
    "while row is not None:\n",
    "    print(row[0])\n",
    "    row = cur.fetchone()"
   ]
  },
  {
   "cell_type": "code",
   "execution_count": 20,
   "id": "02ed8940",
   "metadata": {},
   "outputs": [
    {
     "name": "stdout",
     "output_type": "stream",
     "text": [
      "Armonk\n"
     ]
    }
   ],
   "source": [
    "#4 What is the headquarter city of the company whose CEO was born in India? \n",
    "cmd = \"SELECT company.city_name FROM company JOIN ceo ON company.ceo_name = ceo.name JOIN cities ON ceo.city_name = cities.city_name WHERE cities.country = 'India'\"\n",
    "        \n",
    "cur.execute(cmd)\n",
    "\n",
    "row = cur.fetchone()\n",
    "while row is not None:\n",
    "    print(row[0])\n",
    "    row = cur.fetchone()"
   ]
  },
  {
   "cell_type": "code",
   "execution_count": 21,
   "id": "52cc5e39",
   "metadata": {},
   "outputs": [
    {
     "name": "stdout",
     "output_type": "stream",
     "text": [
      "IBM\n",
      "Amazon\n",
      "Sony\n",
      "Alibaba\n",
      "Samsung\n"
     ]
    }
   ],
   "source": [
    "#5 Which companies have CEOs who started in their positions after 2014?\n",
    "\n",
    "cmd = \"SELECT company.name FROM company JOIN ceo ON company.ceo_name = ceo.name WHERE year_become_ceo  > 2014 \"\n",
    "cur.execute(cmd)\n",
    "\n",
    "row = cur.fetchone()\n",
    "while row is not None:\n",
    "    print(row[0])\n",
    "    row = cur.fetchone()"
   ]
  },
  {
   "cell_type": "code",
   "execution_count": 22,
   "id": "ceb64e8d",
   "metadata": {},
   "outputs": [],
   "source": [
    "cur.close()"
   ]
  }
 ],
 "metadata": {
  "kernelspec": {
   "display_name": "Python 3 (ipykernel)",
   "language": "python",
   "name": "python3"
  },
  "language_info": {
   "codemirror_mode": {
    "name": "ipython",
    "version": 3
   },
   "file_extension": ".py",
   "mimetype": "text/x-python",
   "name": "python",
   "nbconvert_exporter": "python",
   "pygments_lexer": "ipython3",
   "version": "3.9.13"
  }
 },
 "nbformat": 4,
 "nbformat_minor": 5
}
